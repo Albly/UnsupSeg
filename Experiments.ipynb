{
 "cells": [
  {
   "cell_type": "code",
   "execution_count": 1,
   "metadata": {},
   "outputs": [],
   "source": [
    "import numpy as np\n",
    "import wandb\n",
    "from argparse import Namespace\n",
    "api = wandb.Api() # init api wandb"
   ]
  },
  {
   "cell_type": "code",
   "execution_count": null,
   "metadata": {},
   "outputs": [],
   "source": []
  },
  {
   "cell_type": "code",
   "execution_count": null,
   "metadata": {},
   "outputs": [],
   "source": []
  },
  {
   "cell_type": "code",
   "execution_count": null,
   "metadata": {},
   "outputs": [],
   "source": []
  },
  {
   "cell_type": "markdown",
   "metadata": {},
   "source": [
    "# Metrics for task 1\n",
    "\n",
    "* Train on TIMIT dataset, test on TIMIT dataset\n",
    "\n",
    "* For these metrics is nesessary to plot std interval since we have an averaging by different random seeds"
   ]
  },
  {
   "cell_type": "markdown",
   "metadata": {},
   "source": [
    "### Training summary metrics"
   ]
  },
  {
   "cell_type": "code",
   "execution_count": 134,
   "metadata": {},
   "outputs": [],
   "source": [
    "run1 = api.run(\"/skrikunov/unsupervised_segmentor/runs/2cxbf498\") # train seed 100\n",
    "run2 = api.run(\"/skrikunov/unsupervised_segmentor/runs/1yra6woa\") # train seed 101\n",
    "run3 = api.run(\"/skrikunov/unsupervised_segmentor/runs/13bgyhue\")  # train seed 102"
   ]
  },
  {
   "cell_type": "code",
   "execution_count": 135,
   "metadata": {},
   "outputs": [],
   "source": [
    "# extract metriks for each run\n",
    "runs = [run1, run2, run3]\n",
    "summaries = []\n",
    "for run in runs:\n",
    "    summaries.append(Namespace(**dict(run.summary)))"
   ]
  },
  {
   "cell_type": "code",
   "execution_count": 136,
   "metadata": {},
   "outputs": [
    {
     "data": {
      "text/plain": [
       "{'timit_val_cpc_1_precision': 0.8129894662425292,\n",
       " 'timit_val_cpc_1_recall': 0.8118363299963707,\n",
       " 'timit_val_cpc_1_rval': 0.8395105435057753,\n",
       " 'timit_val_cpc_1_f1': 0.8123694459268779,\n",
       " 'timit_val_cpc_1_max_rval_epoch': 19.666666666666664,\n",
       " 'timit_val_cpc_1_max_rval': 0.8676168167591487,\n",
       " 'val_max_rval': 0.8676168167591487}"
      ]
     },
     "execution_count": 136,
     "metadata": {},
     "output_type": "execute_result"
    }
   ],
   "source": [
    "metrics = {'timit_val_cpc_1_precision':0,\n",
    "           'timit_val_cpc_1_recall':0,\n",
    "           'timit_val_cpc_1_rval':0,\n",
    "           'timit_val_cpc_1_f1':0,\n",
    "           'timit_val_cpc_1_max_rval_epoch':0,\n",
    "           'timit_val_cpc_1_max_rval':0,\n",
    "           'val_max_rval':0}\n",
    "\n",
    "length = len(runs)\n",
    "for i in range(length):\n",
    "    metrics['timit_val_cpc_1_precision'] += summaries[i].timit_val_cpc_1_precision/length\n",
    "    metrics['timit_val_cpc_1_recall'] += summaries[i].timit_val_cpc_1_recall/length\n",
    "    metrics['timit_val_cpc_1_rval'] += summaries[i].timit_val_cpc_1_rval/length\n",
    "    metrics['timit_val_cpc_1_f1'] += summaries[i].timit_val_cpc_1_f1/length\n",
    "    metrics['timit_val_cpc_1_max_rval_epoch'] += summaries[i].timit_val_cpc_1_max_rval_epoch/length\n",
    "    metrics['timit_val_cpc_1_max_rval'] += summaries[i].timit_val_cpc_1_max_rval/length\n",
    "    metrics['val_max_rval'] += summaries[i].val_max_rval/length\n",
    "    \n",
    "metrics # averaged by 3 random seeds"
   ]
  },
  {
   "cell_type": "markdown",
   "metadata": {},
   "source": [
    "### Testing summary metrics"
   ]
  },
  {
   "cell_type": "code",
   "execution_count": 137,
   "metadata": {},
   "outputs": [],
   "source": [
    "run1 = api.run(\"/skrikunov/unsupervised_segmentor/runs/2iliwbv6\") # test seed 100\n",
    "run2 = api.run(\"/skrikunov/unsupervised_segmentor/runs/9ofz5v4c\") # test seed 101\n",
    "run3 = api.run(\"/skrikunov/unsupervised_segmentor/runs/2kgdnioq\")  # test seed 102"
   ]
  },
  {
   "cell_type": "code",
   "execution_count": 138,
   "metadata": {},
   "outputs": [],
   "source": [
    "# extract metriks for each run\n",
    "runs = [run1, run2, run3]\n",
    "summaries = []\n",
    "for run in runs:\n",
    "    summaries.append(Namespace(**dict(run.summary)))"
   ]
  },
  {
   "cell_type": "code",
   "execution_count": 139,
   "metadata": {},
   "outputs": [
    {
     "data": {
      "text/plain": [
       "{'timit_test_cpc_1_precision': 0.8056911228576339,\n",
       " 'timit_test_cpc_1_recall': 0.82419488233557,\n",
       " 'timit_test_cpc_1_rval': 0.8403377605566502,\n",
       " 'timit_test_cpc_1_f1': 0.8147468776531928,\n",
       " 'timit_test_cpc_1_max_rval_epoch': 0.0,\n",
       " 'timit_test_cpc_1_max_rval': 0.8403377605566502,\n",
       " 'test_max_rval': 0.8403377605566502}"
      ]
     },
     "execution_count": 139,
     "metadata": {},
     "output_type": "execute_result"
    }
   ],
   "source": [
    "metrics = {'timit_test_cpc_1_precision':0,\n",
    "           'timit_test_cpc_1_recall':0,\n",
    "           'timit_test_cpc_1_rval':0,\n",
    "           'timit_test_cpc_1_f1':0,\n",
    "           'timit_test_cpc_1_max_rval_epoch':0,\n",
    "           'timit_test_cpc_1_max_rval':0,\n",
    "           'test_max_rval':0}\n",
    "\n",
    "length = len(runs)\n",
    "for i in range(length):\n",
    "    metrics['timit_test_cpc_1_precision'] += summaries[i].timit_test_cpc_1_precision/length\n",
    "    metrics['timit_test_cpc_1_recall'] += summaries[i].timit_test_cpc_1_recall/length\n",
    "    metrics['timit_test_cpc_1_rval'] += summaries[i].timit_test_cpc_1_rval/length\n",
    "    metrics['timit_test_cpc_1_f1'] += summaries[i].timit_test_cpc_1_f1/length\n",
    "    metrics['timit_test_cpc_1_max_rval_epoch'] += summaries[i].timit_test_cpc_1_max_rval_epoch/length\n",
    "    metrics['timit_test_cpc_1_max_rval'] += summaries[i].timit_test_cpc_1_max_rval/length\n",
    "    metrics['test_max_rval'] += summaries[i].test_max_rval/length\n",
    "    \n",
    "metrics # averaged by 3 random seeds"
   ]
  },
  {
   "cell_type": "code",
   "execution_count": null,
   "metadata": {},
   "outputs": [],
   "source": []
  },
  {
   "cell_type": "code",
   "execution_count": null,
   "metadata": {},
   "outputs": [],
   "source": []
  },
  {
   "cell_type": "code",
   "execution_count": null,
   "metadata": {},
   "outputs": [],
   "source": []
  },
  {
   "cell_type": "markdown",
   "metadata": {},
   "source": [
    "# Metrics for task 2\n",
    "\n",
    "* Train on TIMIT dataset, test on ARABIC dataset"
   ]
  },
  {
   "cell_type": "markdown",
   "metadata": {},
   "source": [
    "### Testing summary metrics"
   ]
  },
  {
   "cell_type": "code",
   "execution_count": 140,
   "metadata": {},
   "outputs": [],
   "source": [
    "run1 = api.run(\"/skrikunov/unsupervised_segmentor/runs/85378yvn\") # test seed 100\n",
    "run2 = api.run(\"/skrikunov/unsupervised_segmentor/runs/2rc819tx\") # test seed 101\n",
    "run3 = api.run(\"/skrikunov/unsupervised_segmentor/runs/36q5humw\")  # test seed 102"
   ]
  },
  {
   "cell_type": "code",
   "execution_count": 141,
   "metadata": {},
   "outputs": [],
   "source": [
    "# extract metriks for each run\n",
    "runs = [run1, run2, run3]\n",
    "summaries = []\n",
    "for run in runs:\n",
    "    summaries.append(Namespace(**dict(run.summary)))"
   ]
  },
  {
   "cell_type": "code",
   "execution_count": 142,
   "metadata": {},
   "outputs": [
    {
     "data": {
      "text/plain": [
       "{'arabic_test_cpc_1_precision': 0.5442848991613827,\n",
       " 'arabic_test_cpc_1_recall': 0.6293277058661148,\n",
       " 'arabic_test_cpc_1_rval': 0.566190238907965,\n",
       " 'arabic_test_cpc_1_f1': 0.5762815404815149,\n",
       " 'arabic_test_cpc_1_max_rval_epoch': 0.0,\n",
       " 'arabic_test_cpc_1_max_rval': 0.566190238907965,\n",
       " 'test_max_rval': 0.566190238907965}"
      ]
     },
     "execution_count": 142,
     "metadata": {},
     "output_type": "execute_result"
    }
   ],
   "source": [
    "metrics = {'arabic_test_cpc_1_precision':0,\n",
    "           'arabic_test_cpc_1_recall':0,\n",
    "           'arabic_test_cpc_1_rval':0,\n",
    "           'arabic_test_cpc_1_f1':0,\n",
    "           'arabic_test_cpc_1_max_rval_epoch':0,\n",
    "           'arabic_test_cpc_1_max_rval':0,\n",
    "           'test_max_rval':0}\n",
    "\n",
    "length = len(runs)\n",
    "for i in range(length):\n",
    "    metrics['arabic_test_cpc_1_precision'] += summaries[i].arabic_test_cpc_1_precision/length\n",
    "    metrics['arabic_test_cpc_1_recall'] += summaries[i].arabic_test_cpc_1_recall/length\n",
    "    metrics['arabic_test_cpc_1_rval'] += summaries[i].arabic_test_cpc_1_rval/length\n",
    "    metrics['arabic_test_cpc_1_f1'] += summaries[i].arabic_test_cpc_1_f1/length\n",
    "    metrics['arabic_test_cpc_1_max_rval_epoch'] += summaries[i].arabic_test_cpc_1_max_rval_epoch/length\n",
    "    metrics['arabic_test_cpc_1_max_rval'] += summaries[i].arabic_test_cpc_1_max_rval/length\n",
    "    metrics['test_max_rval'] += summaries[i].test_max_rval/length\n",
    "    \n",
    "metrics # averaged by 3 random seeds"
   ]
  },
  {
   "cell_type": "code",
   "execution_count": null,
   "metadata": {},
   "outputs": [],
   "source": []
  },
  {
   "cell_type": "code",
   "execution_count": null,
   "metadata": {},
   "outputs": [],
   "source": []
  },
  {
   "cell_type": "code",
   "execution_count": null,
   "metadata": {},
   "outputs": [],
   "source": []
  },
  {
   "cell_type": "markdown",
   "metadata": {},
   "source": [
    "# Metrics for task 3\n",
    "* Train on TIMIT dataset, test on TIMIT dataset\n",
    "* Different loss functions\n",
    "* Without averaging results\n",
    "* Random seed for each experiment is 100\n",
    "\n",
    "* For these metrics is NOT nesessary to plot std interval since we have NOT an averaging by different random seeds"
   ]
  },
  {
   "cell_type": "markdown",
   "metadata": {},
   "source": [
    "## Loss function 1"
   ]
  },
  {
   "cell_type": "markdown",
   "metadata": {},
   "source": [
    "### Training summary metrics loss 1"
   ]
  },
  {
   "cell_type": "code",
   "execution_count": 143,
   "metadata": {},
   "outputs": [],
   "source": [
    "run1 = api.run(\"/skrikunov/unsupervised_segmentor/runs/3vwpyb1f\") # train seed 100"
   ]
  },
  {
   "cell_type": "code",
   "execution_count": 144,
   "metadata": {},
   "outputs": [],
   "source": [
    "# extract metriks for this\n",
    "summary = Namespace(**dict(run1.summary))"
   ]
  },
  {
   "cell_type": "code",
   "execution_count": 145,
   "metadata": {},
   "outputs": [
    {
     "name": "stdout",
     "output_type": "stream",
     "text": [
      "timit_val_cpc_1_precision 0.7901140679788745\n",
      "timit_val_cpc_1_recall 0.8162199786424064\n",
      "timit_val_cpc_1_rval 0.8299791151546728\n",
      "timit_val_cpc_1_f1 0.8029498899034149\n",
      "timit_val_cpc_1_max_rval_epoch 3\n",
      "timit_val_cpc_1_max_rval 0.8662378168404158\n",
      "val_max_rval 0.8662378168404158\n"
     ]
    }
   ],
   "source": [
    "print('timit_val_cpc_1_precision', summary.timit_val_cpc_1_precision)\n",
    "print('timit_val_cpc_1_recall', summary.timit_val_cpc_1_recall)\n",
    "print('timit_val_cpc_1_rval', summary.timit_val_cpc_1_rval)\n",
    "print('timit_val_cpc_1_f1', summary.timit_val_cpc_1_f1)\n",
    "print('timit_val_cpc_1_max_rval_epoch', summary.timit_val_cpc_1_max_rval_epoch)\n",
    "print('timit_val_cpc_1_max_rval', summary.timit_val_cpc_1_max_rval)\n",
    "print('val_max_rval', summary.val_max_rval)"
   ]
  },
  {
   "cell_type": "markdown",
   "metadata": {},
   "source": [
    "### Testing summary metrics loss 1"
   ]
  },
  {
   "cell_type": "code",
   "execution_count": 146,
   "metadata": {},
   "outputs": [],
   "source": [
    "run1 = api.run(\"/skrikunov/unsupervised_segmentor/runs/rexaygrs\") # test seed 100"
   ]
  },
  {
   "cell_type": "code",
   "execution_count": 147,
   "metadata": {},
   "outputs": [],
   "source": [
    "# extract metriks for this\n",
    "summary = Namespace(**dict(run1.summary))"
   ]
  },
  {
   "cell_type": "code",
   "execution_count": 148,
   "metadata": {},
   "outputs": [
    {
     "name": "stdout",
     "output_type": "stream",
     "text": [
      "timit_test_cpc_1_precision 0.7303013191404059\n",
      "timit_test_cpc_1_recall 0.8698471142448015\n",
      "timit_test_cpc_1_rval 0.7708296098386576\n",
      "timit_test_cpc_1_f1 0.7939844976969596\n",
      "timit_test_cpc_1_max_rval_epoch 0\n",
      "timit_test_cpc_1_max_rval 0.7708296098386576\n",
      "test_max_rval 0.7708296098386576\n"
     ]
    }
   ],
   "source": [
    "print('timit_test_cpc_1_precision', summary.timit_test_cpc_1_precision)\n",
    "print('timit_test_cpc_1_recall', summary.timit_test_cpc_1_recall)\n",
    "print('timit_test_cpc_1_rval', summary.timit_test_cpc_1_rval)\n",
    "print('timit_test_cpc_1_f1', summary.timit_test_cpc_1_f1)\n",
    "print('timit_test_cpc_1_max_rval_epoch', summary.timit_test_cpc_1_max_rval_epoch)\n",
    "print('timit_test_cpc_1_max_rval', summary.timit_test_cpc_1_max_rval)\n",
    "print('test_max_rval', summary.test_max_rval)"
   ]
  },
  {
   "cell_type": "markdown",
   "metadata": {},
   "source": [
    "## Loss function 2"
   ]
  },
  {
   "cell_type": "markdown",
   "metadata": {},
   "source": [
    "### Training summary metrics loss 2"
   ]
  },
  {
   "cell_type": "code",
   "execution_count": 149,
   "metadata": {},
   "outputs": [],
   "source": [
    "run1 = api.run(\"/albly/unsupervised_segmentor/runs/1uaevovz/\") # train seed 100"
   ]
  },
  {
   "cell_type": "code",
   "execution_count": 150,
   "metadata": {},
   "outputs": [],
   "source": [
    "# extract metriks for this\n",
    "summary = Namespace(**dict(run1.summary))"
   ]
  },
  {
   "cell_type": "code",
   "execution_count": 151,
   "metadata": {},
   "outputs": [
    {
     "name": "stdout",
     "output_type": "stream",
     "text": [
      "timit_val_cpc_1_precision 0.7502364620771834\n",
      "timit_val_cpc_1_recall 0.7748715548955678\n",
      "timit_val_cpc_1_rval 0.7950404267703165\n",
      "timit_val_cpc_1_f1 0.7623500443106802\n",
      "timit_val_cpc_1_max_rval_epoch 3\n",
      "timit_val_cpc_1_max_rval 0.8606488139481616\n",
      "val_max_rval 0.8606488139481616\n"
     ]
    }
   ],
   "source": [
    "print('timit_val_cpc_1_precision', summary.timit_val_cpc_1_precision)\n",
    "print('timit_val_cpc_1_recall', summary.timit_val_cpc_1_recall)\n",
    "print('timit_val_cpc_1_rval', summary.timit_val_cpc_1_rval)\n",
    "print('timit_val_cpc_1_f1', summary.timit_val_cpc_1_f1)\n",
    "print('timit_val_cpc_1_max_rval_epoch', summary.timit_val_cpc_1_max_rval_epoch)\n",
    "print('timit_val_cpc_1_max_rval', summary.timit_val_cpc_1_max_rval)\n",
    "print('val_max_rval', summary.val_max_rval)"
   ]
  },
  {
   "cell_type": "markdown",
   "metadata": {},
   "source": [
    "### Testing summary metrics loss 2"
   ]
  },
  {
   "cell_type": "code",
   "execution_count": 152,
   "metadata": {},
   "outputs": [],
   "source": [
    "run1 = api.run(\"/albly/unsupervised_segmentor/runs/1v1y7yic\") # test seed 100"
   ]
  },
  {
   "cell_type": "code",
   "execution_count": 153,
   "metadata": {},
   "outputs": [],
   "source": [
    "# extract metriks for this\n",
    "summary = Namespace(**dict(run1.summary))"
   ]
  },
  {
   "cell_type": "code",
   "execution_count": 154,
   "metadata": {},
   "outputs": [
    {
     "name": "stdout",
     "output_type": "stream",
     "text": [
      "timit_test_cpc_1_precision 0.8295327776052345\n",
      "timit_test_cpc_1_recall 0.8330425036687676\n",
      "timit_test_cpc_1_rval 0.8559702338679911\n",
      "timit_test_cpc_1_f1 0.831278936142206\n",
      "timit_test_cpc_1_max_rval_epoch 0\n",
      "timit_test_cpc_1_max_rval 0.8559702338679911\n",
      "test_max_rval 0.8559702338679911\n"
     ]
    }
   ],
   "source": [
    "print('timit_test_cpc_1_precision', summary.timit_test_cpc_1_precision)\n",
    "print('timit_test_cpc_1_recall', summary.timit_test_cpc_1_recall)\n",
    "print('timit_test_cpc_1_rval', summary.timit_test_cpc_1_rval)\n",
    "print('timit_test_cpc_1_f1', summary.timit_test_cpc_1_f1)\n",
    "print('timit_test_cpc_1_max_rval_epoch', summary.timit_test_cpc_1_max_rval_epoch)\n",
    "print('timit_test_cpc_1_max_rval', summary.timit_test_cpc_1_max_rval)\n",
    "print('test_max_rval', summary.test_max_rval)"
   ]
  },
  {
   "cell_type": "markdown",
   "metadata": {},
   "source": [
    "## Loss function 3"
   ]
  },
  {
   "cell_type": "markdown",
   "metadata": {},
   "source": [
    "### Training summary metrics loss 3"
   ]
  },
  {
   "cell_type": "code",
   "execution_count": 6,
   "metadata": {},
   "outputs": [],
   "source": [
    "run1 = api.run(\"/albly/unsupervised_segmentor/runs/3oiuv14h\") # train seed 100"
   ]
  },
  {
   "cell_type": "code",
   "execution_count": 7,
   "metadata": {},
   "outputs": [],
   "source": [
    "# extract metriks for this\n",
    "summary = Namespace(**dict(run1.summary))"
   ]
  },
  {
   "cell_type": "code",
   "execution_count": 8,
   "metadata": {},
   "outputs": [
    {
     "name": "stdout",
     "output_type": "stream",
     "text": [
      "timit_val_cpc_1_precision 0.9999999908088236\n",
      "timit_val_cpc_1_recall 0.8724311064500052\n",
      "timit_val_cpc_1_rval 0.909795114282194\n",
      "timit_val_cpc_1_f1 0.9318649325829664\n",
      "timit_val_cpc_1_max_rval_epoch 5\n",
      "timit_val_cpc_1_max_rval 0.9124785528236108\n",
      "val_max_rval 0.9124785528236108\n"
     ]
    }
   ],
   "source": [
    "print('timit_val_cpc_1_precision', summary.timit_val_cpc_1_precision)\n",
    "print('timit_val_cpc_1_recall', summary.timit_val_cpc_1_recall)\n",
    "print('timit_val_cpc_1_rval', summary.timit_val_cpc_1_rval)\n",
    "print('timit_val_cpc_1_f1', summary.timit_val_cpc_1_f1)\n",
    "print('timit_val_cpc_1_max_rval_epoch', summary.timit_val_cpc_1_max_rval_epoch)\n",
    "print('timit_val_cpc_1_max_rval', summary.timit_val_cpc_1_max_rval)\n",
    "print('val_max_rval', summary.val_max_rval)"
   ]
  },
  {
   "cell_type": "markdown",
   "metadata": {},
   "source": [
    "### Testing summary metrics loss 3"
   ]
  },
  {
   "cell_type": "code",
   "execution_count": 3,
   "metadata": {},
   "outputs": [],
   "source": [
    "run1 = api.run(\"/albly/unsupervised_segmentor/runs/3kylohfu\") # test seed 100"
   ]
  },
  {
   "cell_type": "code",
   "execution_count": 4,
   "metadata": {},
   "outputs": [],
   "source": [
    "# extract metriks for this\n",
    "summary = Namespace(**dict(run1.summary))"
   ]
  },
  {
   "cell_type": "code",
   "execution_count": 5,
   "metadata": {},
   "outputs": [
    {
     "name": "stdout",
     "output_type": "stream",
     "text": [
      "timit_test_cpc_1_precision 0.9984810101304278\n",
      "timit_test_cpc_1_recall 0.8683422715331237\n",
      "timit_test_cpc_1_rval 0.9069027501118866\n",
      "timit_test_cpc_1_f1 0.9288705927148796\n",
      "timit_test_cpc_1_max_rval_epoch 0\n",
      "timit_test_cpc_1_max_rval 0.9069027501118866\n",
      "test_max_rval 0.9069027501118866\n"
     ]
    }
   ],
   "source": [
    "print('timit_test_cpc_1_precision', summary.timit_test_cpc_1_precision)\n",
    "print('timit_test_cpc_1_recall', summary.timit_test_cpc_1_recall)\n",
    "print('timit_test_cpc_1_rval', summary.timit_test_cpc_1_rval)\n",
    "print('timit_test_cpc_1_f1', summary.timit_test_cpc_1_f1)\n",
    "print('timit_test_cpc_1_max_rval_epoch', summary.timit_test_cpc_1_max_rval_epoch)\n",
    "print('timit_test_cpc_1_max_rval', summary.timit_test_cpc_1_max_rval)\n",
    "print('test_max_rval', summary.test_max_rval)"
   ]
  },
  {
   "cell_type": "code",
   "execution_count": null,
   "metadata": {},
   "outputs": [],
   "source": []
  },
  {
   "cell_type": "code",
   "execution_count": null,
   "metadata": {},
   "outputs": [],
   "source": []
  },
  {
   "cell_type": "code",
   "execution_count": null,
   "metadata": {},
   "outputs": [],
   "source": []
  },
  {
   "cell_type": "markdown",
   "metadata": {},
   "source": [
    "# Loss function 1 description\n",
    "\n",
    "* The idea is to impement loss function which wil use new more \"sensitive\" similarity metric than regular cosine similarity\n",
    "\n",
    "* This is not full loss function. This function replace similarity metric in the formula from the paper"
   ]
  },
  {
   "cell_type": "code",
   "execution_count": 36,
   "metadata": {},
   "outputs": [
    {
     "name": "stdout",
     "output_type": "stream",
     "text": [
      "Populating the interactive namespace from numpy and matplotlib\n"
     ]
    }
   ],
   "source": [
    "%pylab inline\n",
    "def cossim(a,b):\n",
    "    cos_sim = (a.T @ b) / (norm(a)*norm(b))\n",
    "    return cos_sim\n",
    "\n",
    "def score(a,b):\n",
    "    c = 1/(cossim(a,b)+0.01)\n",
    "    return np.sign(c)*np.exp(-c**4+1)"
   ]
  },
  {
   "cell_type": "code",
   "execution_count": 37,
   "metadata": {},
   "outputs": [
    {
     "name": "stdout",
     "output_type": "stream",
     "text": [
      "Regulsr cosine similarity =  0.854506017387802\n",
      "Modified cosine similarity = 0.45370472290896185\n"
     ]
    }
   ],
   "source": [
    "a = np.array([1,2,3,4,5,6])\n",
    "b = np.array([1,2,3,4,5,1])\n",
    "print('Regulsr cosine similarity = ', cossim(a,b))\n",
    "print('Modified cosine similarity =', score(a,b))"
   ]
  },
  {
   "cell_type": "code",
   "execution_count": 38,
   "metadata": {},
   "outputs": [],
   "source": [
    "# modified function shows lower similarity for the same vector in the positive value domain"
   ]
  },
  {
   "cell_type": "code",
   "execution_count": 39,
   "metadata": {},
   "outputs": [
    {
     "name": "stdout",
     "output_type": "stream",
     "text": [
      "Regulsr cosine similarity =  -0.5463235193135128\n",
      "Modified cosine similarity = -1.5321102721768985e-05\n"
     ]
    }
   ],
   "source": [
    "a = np.array([1,2,3,4,5,6])\n",
    "b = np.array([1,2,-3,-4,-5,1])\n",
    "print('Regulsr cosine similarity = ', cossim(a,b))\n",
    "print('Modified cosine similarity =', score(a,b))"
   ]
  },
  {
   "cell_type": "code",
   "execution_count": null,
   "metadata": {},
   "outputs": [],
   "source": [
    "# ... and significantly lower similarity for the same vector in the negative value domain"
   ]
  },
  {
   "cell_type": "markdown",
   "metadata": {},
   "source": [
    "# Loss function 2 description\n",
    "\n",
    "* Our next hypothesis is to control the similarity function by adding learnable multiplier and bias. So, our similarity function will be:\n",
    "* f(x_1,x_1) = w * cossim(x_1,x_1)+b\n",
    "* Here w and b are scalars, and we constrain the weight w to be positive (w > 0), because we want the similarity to be larger when cosine similarity is large. Proposed way was used in this article (https://arxiv.org/pdf/1710.10467.pdf    page 2, formula 5 )\n",
    "* Before learning procedure, these variables were initialized as w = 1 and b = 0, and during training procedure they change.  "
   ]
  },
  {
   "cell_type": "markdown",
   "metadata": {},
   "source": [
    "# Loss function 3 description"
   ]
  },
  {
   "cell_type": "code",
   "execution_count": null,
   "metadata": {},
   "outputs": [],
   "source": []
  },
  {
   "cell_type": "code",
   "execution_count": null,
   "metadata": {},
   "outputs": [],
   "source": []
  },
  {
   "cell_type": "code",
   "execution_count": null,
   "metadata": {},
   "outputs": [],
   "source": []
  },
  {
   "cell_type": "markdown",
   "metadata": {},
   "source": [
    "# Loading all metrics history (dataframes), create plots"
   ]
  },
  {
   "cell_type": "code",
   "execution_count": 157,
   "metadata": {},
   "outputs": [],
   "source": [
    "# task 1\n",
    "\n",
    "# train (don't forget std interval)\n",
    "task1_train_timit_seed_100 = api.run(\"skrikunov/unsupervised_segmentor/2cxbf498\").history()\n",
    "task1_train_timit_seed_101 = api.run(\"skrikunov/unsupervised_segmentor/1yra6woa\").history()\n",
    "task1_train_timit_seed_102 = api.run(\"skrikunov/unsupervised_segmentor/13bgyhue\").history()\n",
    "\n",
    "# test\n",
    "task1_test_timit_seed_100 = api.run(\"skrikunov/unsupervised_segmentor/2iliwbv6\").history()\n",
    "task1_test_timit_seed_101 = api.run(\"skrikunov/unsupervised_segmentor/9ofz5v4c\").history()\n",
    "task1_test_timit_seed_102 = api.run(\"skrikunov/unsupervised_segmentor/2kgdnioq\").history()\n",
    "\n",
    "\n",
    "\n",
    "# task 2\n",
    "# test\n",
    "task2_test_seed_100 = api.run(\"skrikunov/unsupervised_segmentor/85378yvn\").history()\n",
    "task2_test_seed_101 = api.run(\"skrikunov/unsupervised_segmentor/2rc819tx\").history()\n",
    "task2_test_seed_102 = api.run(\"skrikunov/unsupervised_segmentor/36q5humw\").history()\n",
    "\n",
    "\n",
    "\n",
    "# task 3\n",
    "# train\n",
    "task3_train_timit_seed_100_1 = api.run(\"skrikunov/unsupervised_segmentor/3vwpyb1f\").history()\n",
    "task3_train_timit_seed_100_2 = api.run(\"/albly/unsupervised_segmentor/runs/1uaevovz/\").history()\n",
    "# task3_train_timit_seed_100_3 = api.run(\"skrikunov/unsupervised_segmentor/\").history()\n",
    "\n",
    "task3_test_timit_seed_100_1 = api.run(\"skrikunov/unsupervised_segmentor/rexaygrs\").history()\n",
    "task3_test_timit_seed_100_2 = api.run(\"/albly/unsupervised_segmentor/runs/1v1y7yic\").history()\n",
    "# task3_test_timit_seed_100_3 = api.run(\"skrikunov/unsupervised_segmentor/\").history()"
   ]
  },
  {
   "cell_type": "code",
   "execution_count": null,
   "metadata": {},
   "outputs": [],
   "source": []
  },
  {
   "cell_type": "code",
   "execution_count": 94,
   "metadata": {},
   "outputs": [
    {
     "data": {
      "text/html": [
       "<div>\n",
       "<style scoped>\n",
       "    .dataframe tbody tr th:only-of-type {\n",
       "        vertical-align: middle;\n",
       "    }\n",
       "\n",
       "    .dataframe tbody tr th {\n",
       "        vertical-align: top;\n",
       "    }\n",
       "\n",
       "    .dataframe thead th {\n",
       "        text-align: right;\n",
       "    }\n",
       "</style>\n",
       "<table border=\"1\" class=\"dataframe\">\n",
       "  <thead>\n",
       "    <tr style=\"text-align: right;\">\n",
       "      <th></th>\n",
       "      <th>_step</th>\n",
       "      <th>timit_val_cpc_1_max_rval_epoch</th>\n",
       "      <th>timit_val_cpc_1_precision</th>\n",
       "      <th>timit_val_cpc_1_f1</th>\n",
       "      <th>_runtime</th>\n",
       "      <th>current_lr</th>\n",
       "      <th>val_max_rval</th>\n",
       "      <th>train_nfc_loss</th>\n",
       "      <th>timit_val_cpc_1_recall</th>\n",
       "      <th>epoch</th>\n",
       "      <th>timit_val_cpc_1_max_rval</th>\n",
       "      <th>timit_val_cpc_1_rval</th>\n",
       "      <th>_timestamp</th>\n",
       "      <th>val_nfc_loss</th>\n",
       "    </tr>\n",
       "  </thead>\n",
       "  <tbody>\n",
       "    <tr>\n",
       "      <th>0</th>\n",
       "      <td>0</td>\n",
       "      <td>0</td>\n",
       "      <td>0.825007</td>\n",
       "      <td>0.827633</td>\n",
       "      <td>54.368809</td>\n",
       "      <td>0.0001</td>\n",
       "      <td>0.852817</td>\n",
       "      <td>0.641920</td>\n",
       "      <td>0.830285</td>\n",
       "      <td>1</td>\n",
       "      <td>0.852817</td>\n",
       "      <td>0.852817</td>\n",
       "      <td>1.615940e+09</td>\n",
       "      <td>1.034617</td>\n",
       "    </tr>\n",
       "    <tr>\n",
       "      <th>1</th>\n",
       "      <td>1</td>\n",
       "      <td>0</td>\n",
       "      <td>0.810209</td>\n",
       "      <td>0.810395</td>\n",
       "      <td>107.938778</td>\n",
       "      <td>0.0001</td>\n",
       "      <td>0.852817</td>\n",
       "      <td>0.580668</td>\n",
       "      <td>0.810590</td>\n",
       "      <td>1</td>\n",
       "      <td>0.852817</td>\n",
       "      <td>0.838162</td>\n",
       "      <td>1.615940e+09</td>\n",
       "      <td>1.031178</td>\n",
       "    </tr>\n",
       "    <tr>\n",
       "      <th>2</th>\n",
       "      <td>2</td>\n",
       "      <td>0</td>\n",
       "      <td>0.821425</td>\n",
       "      <td>0.823677</td>\n",
       "      <td>159.606811</td>\n",
       "      <td>0.0001</td>\n",
       "      <td>0.852817</td>\n",
       "      <td>0.585774</td>\n",
       "      <td>0.825952</td>\n",
       "      <td>1</td>\n",
       "      <td>0.852817</td>\n",
       "      <td>0.849449</td>\n",
       "      <td>1.615940e+09</td>\n",
       "      <td>1.025627</td>\n",
       "    </tr>\n",
       "    <tr>\n",
       "      <th>3</th>\n",
       "      <td>3</td>\n",
       "      <td>0</td>\n",
       "      <td>0.822767</td>\n",
       "      <td>0.830416</td>\n",
       "      <td>208.871668</td>\n",
       "      <td>0.0001</td>\n",
       "      <td>0.854728</td>\n",
       "      <td>0.598423</td>\n",
       "      <td>0.838220</td>\n",
       "      <td>1</td>\n",
       "      <td>0.854728</td>\n",
       "      <td>0.854728</td>\n",
       "      <td>1.615940e+09</td>\n",
       "      <td>1.023429</td>\n",
       "    </tr>\n",
       "    <tr>\n",
       "      <th>4</th>\n",
       "      <td>4</td>\n",
       "      <td>0</td>\n",
       "      <td>0.814304</td>\n",
       "      <td>0.820609</td>\n",
       "      <td>258.765592</td>\n",
       "      <td>0.0001</td>\n",
       "      <td>0.854728</td>\n",
       "      <td>0.574280</td>\n",
       "      <td>0.827022</td>\n",
       "      <td>1</td>\n",
       "      <td>0.854728</td>\n",
       "      <td>0.846480</td>\n",
       "      <td>1.615940e+09</td>\n",
       "      <td>1.022013</td>\n",
       "    </tr>\n",
       "    <tr>\n",
       "      <th>...</th>\n",
       "      <td>...</td>\n",
       "      <td>...</td>\n",
       "      <td>...</td>\n",
       "      <td>...</td>\n",
       "      <td>...</td>\n",
       "      <td>...</td>\n",
       "      <td>...</td>\n",
       "      <td>...</td>\n",
       "      <td>...</td>\n",
       "      <td>...</td>\n",
       "      <td>...</td>\n",
       "      <td>...</td>\n",
       "      <td>...</td>\n",
       "      <td>...</td>\n",
       "    </tr>\n",
       "    <tr>\n",
       "      <th>245</th>\n",
       "      <td>245</td>\n",
       "      <td>7</td>\n",
       "      <td>0.837594</td>\n",
       "      <td>0.833464</td>\n",
       "      <td>11435.101291</td>\n",
       "      <td>0.0001</td>\n",
       "      <td>0.862457</td>\n",
       "      <td>0.556909</td>\n",
       "      <td>0.829385</td>\n",
       "      <td>50</td>\n",
       "      <td>0.862457</td>\n",
       "      <td>0.857695</td>\n",
       "      <td>1.615951e+09</td>\n",
       "      <td>1.016588</td>\n",
       "    </tr>\n",
       "    <tr>\n",
       "      <th>246</th>\n",
       "      <td>246</td>\n",
       "      <td>7</td>\n",
       "      <td>0.781231</td>\n",
       "      <td>0.787000</td>\n",
       "      <td>11481.241103</td>\n",
       "      <td>0.0001</td>\n",
       "      <td>0.862457</td>\n",
       "      <td>0.562790</td>\n",
       "      <td>0.792865</td>\n",
       "      <td>50</td>\n",
       "      <td>0.862457</td>\n",
       "      <td>0.817667</td>\n",
       "      <td>1.615951e+09</td>\n",
       "      <td>1.018833</td>\n",
       "    </tr>\n",
       "    <tr>\n",
       "      <th>247</th>\n",
       "      <td>247</td>\n",
       "      <td>7</td>\n",
       "      <td>0.824670</td>\n",
       "      <td>0.825867</td>\n",
       "      <td>11527.714093</td>\n",
       "      <td>0.0001</td>\n",
       "      <td>0.862457</td>\n",
       "      <td>0.554763</td>\n",
       "      <td>0.827078</td>\n",
       "      <td>50</td>\n",
       "      <td>0.862457</td>\n",
       "      <td>0.851357</td>\n",
       "      <td>1.615951e+09</td>\n",
       "      <td>1.015228</td>\n",
       "    </tr>\n",
       "    <tr>\n",
       "      <th>248</th>\n",
       "      <td>248</td>\n",
       "      <td>7</td>\n",
       "      <td>0.796413</td>\n",
       "      <td>0.812667</td>\n",
       "      <td>11571.315800</td>\n",
       "      <td>0.0001</td>\n",
       "      <td>0.862457</td>\n",
       "      <td>0.572947</td>\n",
       "      <td>0.829610</td>\n",
       "      <td>50</td>\n",
       "      <td>0.862457</td>\n",
       "      <td>0.837313</td>\n",
       "      <td>1.615951e+09</td>\n",
       "      <td>1.025470</td>\n",
       "    </tr>\n",
       "    <tr>\n",
       "      <th>249</th>\n",
       "      <td>249</td>\n",
       "      <td>7</td>\n",
       "      <td>0.821334</td>\n",
       "      <td>0.819215</td>\n",
       "      <td>11616.357393</td>\n",
       "      <td>0.0001</td>\n",
       "      <td>0.862457</td>\n",
       "      <td>0.577900</td>\n",
       "      <td>0.817118</td>\n",
       "      <td>50</td>\n",
       "      <td>0.862457</td>\n",
       "      <td>0.845679</td>\n",
       "      <td>1.615951e+09</td>\n",
       "      <td>1.016838</td>\n",
       "    </tr>\n",
       "  </tbody>\n",
       "</table>\n",
       "<p>250 rows × 14 columns</p>\n",
       "</div>"
      ],
      "text/plain": [
       "     _step  timit_val_cpc_1_max_rval_epoch  timit_val_cpc_1_precision  \\\n",
       "0        0                               0                   0.825007   \n",
       "1        1                               0                   0.810209   \n",
       "2        2                               0                   0.821425   \n",
       "3        3                               0                   0.822767   \n",
       "4        4                               0                   0.814304   \n",
       "..     ...                             ...                        ...   \n",
       "245    245                               7                   0.837594   \n",
       "246    246                               7                   0.781231   \n",
       "247    247                               7                   0.824670   \n",
       "248    248                               7                   0.796413   \n",
       "249    249                               7                   0.821334   \n",
       "\n",
       "     timit_val_cpc_1_f1      _runtime  current_lr  val_max_rval  \\\n",
       "0              0.827633     54.368809      0.0001      0.852817   \n",
       "1              0.810395    107.938778      0.0001      0.852817   \n",
       "2              0.823677    159.606811      0.0001      0.852817   \n",
       "3              0.830416    208.871668      0.0001      0.854728   \n",
       "4              0.820609    258.765592      0.0001      0.854728   \n",
       "..                  ...           ...         ...           ...   \n",
       "245            0.833464  11435.101291      0.0001      0.862457   \n",
       "246            0.787000  11481.241103      0.0001      0.862457   \n",
       "247            0.825867  11527.714093      0.0001      0.862457   \n",
       "248            0.812667  11571.315800      0.0001      0.862457   \n",
       "249            0.819215  11616.357393      0.0001      0.862457   \n",
       "\n",
       "     train_nfc_loss  timit_val_cpc_1_recall  epoch  timit_val_cpc_1_max_rval  \\\n",
       "0          0.641920                0.830285      1                  0.852817   \n",
       "1          0.580668                0.810590      1                  0.852817   \n",
       "2          0.585774                0.825952      1                  0.852817   \n",
       "3          0.598423                0.838220      1                  0.854728   \n",
       "4          0.574280                0.827022      1                  0.854728   \n",
       "..              ...                     ...    ...                       ...   \n",
       "245        0.556909                0.829385     50                  0.862457   \n",
       "246        0.562790                0.792865     50                  0.862457   \n",
       "247        0.554763                0.827078     50                  0.862457   \n",
       "248        0.572947                0.829610     50                  0.862457   \n",
       "249        0.577900                0.817118     50                  0.862457   \n",
       "\n",
       "     timit_val_cpc_1_rval    _timestamp  val_nfc_loss  \n",
       "0                0.852817  1.615940e+09      1.034617  \n",
       "1                0.838162  1.615940e+09      1.031178  \n",
       "2                0.849449  1.615940e+09      1.025627  \n",
       "3                0.854728  1.615940e+09      1.023429  \n",
       "4                0.846480  1.615940e+09      1.022013  \n",
       "..                    ...           ...           ...  \n",
       "245              0.857695  1.615951e+09      1.016588  \n",
       "246              0.817667  1.615951e+09      1.018833  \n",
       "247              0.851357  1.615951e+09      1.015228  \n",
       "248              0.837313  1.615951e+09      1.025470  \n",
       "249              0.845679  1.615951e+09      1.016838  \n",
       "\n",
       "[250 rows x 14 columns]"
      ]
     },
     "execution_count": 94,
     "metadata": {},
     "output_type": "execute_result"
    }
   ],
   "source": [
    "data = task1_train_timit_seed_102\n",
    "data"
   ]
  },
  {
   "cell_type": "code",
   "execution_count": 119,
   "metadata": {},
   "outputs": [
    {
     "data": {
      "text/plain": [
       "0      0.852817\n",
       "1      0.838162\n",
       "2      0.849449\n",
       "3      0.854728\n",
       "4      0.846480\n",
       "         ...   \n",
       "245    0.857695\n",
       "246    0.817667\n",
       "247    0.851357\n",
       "248    0.837313\n",
       "249    0.845679\n",
       "Name: timit_val_cpc_1_rval, Length: 250, dtype: float64"
      ]
     },
     "execution_count": 119,
     "metadata": {},
     "output_type": "execute_result"
    }
   ],
   "source": [
    "data['timit_val_cpc_1_rval']"
   ]
  },
  {
   "cell_type": "code",
   "execution_count": 120,
   "metadata": {},
   "outputs": [
    {
     "data": {
      "text/plain": [
       "Text(0, 0.5, 'R-value')"
      ]
     },
     "execution_count": 120,
     "metadata": {},
     "output_type": "execute_result"
    },
    {
     "data": {
      "image/png": "[encoded data removed]",
      "text/plain": [
       "<Figure size 432x288 with 1 Axes>"
      ]
     },
     "metadata": {
      "needs_background": "light"
     },
     "output_type": "display_data"
    }
   ],
   "source": [
    "# each epoch consists of 5 steps, so to get num epoch value, we should divide by 5\n",
    "plot(data['_step']/5,data['timit_val_cpc_1_rval'])\n",
    "plt.title('R-value')\n",
    "plt.xlabel('Epoch')\n",
    "plt.ylabel('R-value')"
   ]
  },
  {
   "cell_type": "code",
   "execution_count": 121,
   "metadata": {},
   "outputs": [
    {
     "data": {
      "text/plain": [
       "Text(0, 0.5, 'R-value')"
      ]
     },
     "execution_count": 121,
     "metadata": {},
     "output_type": "execute_result"
    },
    {
     "data": {
      "image/png": "[encoded data removed]",
      "text/plain": [
       "<Figure size 432x288 with 1 Axes>"
      ]
     },
     "metadata": {
      "needs_background": "light"
     },
     "output_type": "display_data"
    }
   ],
   "source": [
    "\n",
    "plot(data['_step'][0:250:5]/5,data['timit_val_cpc_1_rval'][0:250:5])\n",
    "plt.title('R-value')\n",
    "plt.xlabel('Epoch')\n",
    "plt.ylabel('R-value')\n",
    "# plt.xlim([0,50])"
   ]
  },
  {
   "cell_type": "code",
   "execution_count": null,
   "metadata": {},
   "outputs": [],
   "source": []
  },
  {
   "cell_type": "markdown",
   "metadata": {},
   "source": [
    "# Timit description"
   ]
  },
  {
   "cell_type": "markdown",
   "metadata": {},
   "source": [
    "BETTER TO ADD SOME GENERAL INFORMATION\n",
    "\n",
    "Sourse: https://deepai.org/dataset/timit\n",
    "\n",
    "TIMIT is English language dataset with size ~ 1.3Gb\n",
    "\n",
    "Audio sampling frequency = 16kHz\n",
    "\n",
    "It has standard train/test split (2 folders: TRAIN, TEST)\n",
    "\n",
    "Preparing: code use standard train/test split and uses train data for train, randomly sampled 10% of train data for validation during training, test data for testing.\n",
    "Files: 4158 - training, 462 - validation, 1680 - testing.\n",
    "\n",
    "For project audio data (.wav) and phonemes data (.PHN) is required.\n",
    "Each .PHN file contains start sample, end sample of phoneme and phoneme symbols.\n",
    "\n",
    "Example: 9640 11240 sh, where 9640-start,11240-end,sh-phoneme\n",
    "\n",
    "To process original dataset and extract (.wav) and (.PHN) files, processing script was written.\n",
    "\n",
    "In the algorithm to process files, initial dataloader and code processing function (written by author) were used."
   ]
  },
  {
   "cell_type": "markdown",
   "metadata": {},
   "source": [
    "# Arabic description"
   ]
  },
  {
   "cell_type": "markdown",
   "metadata": {},
   "source": [
    "Source: http://en.arabicspeechcorpus.com/\n",
    "For our research we used data from Arabic Speech Corpus dataset, which consists 1813 .wav audio files with spoken utterances with high quality and natural voice and 1813 .TextGrid text files with phoneme labels, time stamps of the boundaries where these occur in the audio files.\n",
    "Initial sample rate of audio files was 48 kHz, and as our neural net uses only files with 16kHz we resampled it using bash script with using Sound eXchange (SoX) audio software.\n",
    "For processing TextGrid files was used python library “textgrid”, that extracted all needed information from file. As time stamps in dataset in time domain we multiplied them to sample rate (16 000), to have sample stamps.\n",
    "This dataset was used for testing procedure of the neural network that was trained on TIMIT dataset, so all 1813 files were used for testing. \n",
    "Size of dataset is ~500 MB"
   ]
  }
 ],
 "metadata": {
  "kernelspec": {
   "display_name": "Python 3",
   "language": "python",
   "name": "python3"
  },
  "language_info": {
   "codemirror_mode": {
    "name": "ipython",
    "version": 3
   },
   "file_extension": ".py",
   "mimetype": "text/x-python",
   "name": "python",
   "nbconvert_exporter": "python",
   "pygments_lexer": "ipython3",
   "version": "3.8.5"
  }
 },
 "nbformat": 4,
 "nbformat_minor": 4
}
